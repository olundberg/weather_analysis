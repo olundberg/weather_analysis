{
 "cells": [
  {
   "cell_type": "markdown",
   "metadata": {},
   "source": [
    "# Weather analysis (EDA)\n",
    "\n",
    "Oscar Lundberg, lundberg.oscar@gmail.com.\n",
    "\n",
    "Using data from the Swedish Meteorological and Hydrological Institute (SMHI), the weather in different cities in Sweden in analysed by explorative data analysis (EDA). The purpose of the analysis is to give a better understanding about different conditions in the different cities.\n",
    "\n",
    "Cities analysed:\n",
    "- Stockholm\n",
    "- Skellefteå\n",
    "- Umeå\n",
    "- Luleå\n",
    "- Hemavan\n",
    "- Riksgränsen\n",
    "\n",
    "Things analysed:\n",
    "- Temperature\n",
    "- Sun hours\n",
    "- Cloud\n",
    "- Rain\n",
    "- Wind\n",
    "- Snow"
   ]
  },
  {
   "cell_type": "code",
   "execution_count": 2,
   "metadata": {},
   "outputs": [],
   "source": [
    "import numpy as np\n",
    "import pandas as pd\n",
    "import seaborn as sns"
   ]
  },
  {
   "cell_type": "markdown",
   "metadata": {},
   "source": [
    "## Temperature\n",
    "In this section the temperature for the different cities is compared."
   ]
  },
  {
   "cell_type": "markdown",
   "metadata": {},
   "source": [
    "## Sun hours"
   ]
  },
  {
   "cell_type": "markdown",
   "metadata": {},
   "source": [
    "## Cloud"
   ]
  },
  {
   "cell_type": "markdown",
   "metadata": {},
   "source": [
    "## Rain"
   ]
  },
  {
   "cell_type": "markdown",
   "metadata": {},
   "source": [
    "## Wind"
   ]
  },
  {
   "cell_type": "markdown",
   "metadata": {},
   "source": [
    "## Snow"
   ]
  },
  {
   "cell_type": "markdown",
   "metadata": {},
   "source": [
    "## Discussion"
   ]
  }
 ],
 "metadata": {
  "kernelspec": {
   "display_name": "Python 3",
   "language": "python",
   "name": "python3"
  },
  "language_info": {
   "codemirror_mode": {
    "name": "ipython",
    "version": 3
   },
   "file_extension": ".py",
   "mimetype": "text/x-python",
   "name": "python",
   "nbconvert_exporter": "python",
   "pygments_lexer": "ipython3",
   "version": "3.6.8"
  }
 },
 "nbformat": 4,
 "nbformat_minor": 2
}
